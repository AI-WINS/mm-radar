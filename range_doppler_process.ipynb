{
 "cells": [
  {
   "cell_type": "code",
   "execution_count": 5,
   "metadata": {},
   "outputs": [],
   "source": [
    "from data_handling import DataHandling\n",
    "import tkinter as tk\n",
    "from tkinter import filedialog\n",
    "from mmwave.dsp.range_processing import *   # pip install openradar\n",
    "from mmwave.dsp.utils import *\n",
    "from processing_chain import * \n",
    "import matplotlib.pyplot as plt\n",
    "import collections\n",
    ""
   ]
  },
  {
   "cell_type": "code",
   "execution_count": 6,
   "metadata": {},
   "outputs": [],
   "source": [
    "# global variables\n",
    "num_tx = 1\n",
    "num_rx = 4\n",
    "res_range = 0.05\n",
    "max_range = 5.5\n",
    "max_velocity = 5.83\n",
    "fps = 20\n",
    "fs = 3200\n",
    "config_params_1843 = {}"
   ]
  },
  {
   "cell_type": "code",
   "execution_count": 7,
   "metadata": {},
   "outputs": [],
   "source": [
    "def config_1843():\n",
    "    # (1) configure radar and print resultant radarcube parameters\n",
    "\n",
    "    # (1.2) instantiate radar and run config script \n",
    "    awr1843_config = CustomConfig(num_tx=num_tx, num_rx=num_rx, res_range=res_range, max_range=max_range, max_velocity=max_velocity, fps=fps, fs=fs)    \n",
    "    config_params_1843 = awr1843_config._run_config()\n",
    "    print(\"\\nIf sensorStart status is not 'Done', something could be wrong in configuring the radar! \\n\")\n",
    "\n",
    "    # (1.3) print resultant rcube parameters\n",
    "    print('{:-^60}'.format(' resultant rcube parameters '))\n",
    "    for key, value in config_params_1843.items():\n",
    "        print('{:25}'.format(key + ':') + str(round(value,4)))\n",
    "    print('{:-^60}'.format(''))\n",
    "\n",
    "def organize_rawdata(num_samples, num_chirps, experiment_name):\n",
    "    # (2) organize raw data \n",
    "\n",
    "    # (2.2) instantiate DataHandling class\n",
    "    data_handle = DataHandling(num_samples=num_samples, num_chirps=num_chirps, num_tx=num_tx, num_rx=num_rx, fps=fps)\n",
    "    # (2.3) organize data if new data is present\n",
    "    data_directory = data_handle.organize_captured_data(experiment_name=experiment_name)\n",
    "\n",
    "    return data_directory\n",
    "\n",
    "def perform_rangedoppler_processing():\n",
    "    data_directory =    filedialog.askdirectory(initialdir='/mnt/c/work/rcube_extract/dca_capture/captured_data')\n",
    "    \n",
    "    dir_name = data_directory.split(\"/\")[-1]\n",
    "    print(dir_name)\n",
    "    params = dir_name.split('_')\n",
    "\n",
    "    num_samples = int(params[4].split('x')[0][1:])\n",
    "    num_chirps = int(params[4].split('x')[1][1:])\n",
    "    num_tx = int(params[3][3])\n",
    "    num_rx = int(params[3][4])\n",
    "    frames_per_second = int(params[5][3:])\n",
    "\n",
    "    data_handle = DataHandling(num_samples=num_samples, num_chirps=num_chirps, num_tx=num_tx, num_rx=num_rx, fps=frames_per_second)\n",
    "    data_handle.range_doppler_process(data_directory)\n",
    "    return\n",
    "\n",
    "def perform_microdoppler_processing(data_directory):\n",
    "    #data_directory =    filedialog.askdirectory(initialdir='/mnt/c/work/rcube_extract/dca_capture/captured_data')\n",
    "    \n",
    "    dir_name = data_directory.split(\"/\")[-1]\n",
    "    print(dir_name)\n",
    "    params = dir_name.split('_')\n",
    "    #print('params: ' + str(params))\n",
    "    num_samples = int(params[4].split('x')[0][1:])\n",
    "    num_chirps = int(params[4].split('x')[1][1:])\n",
    "    num_tx = int(params[3][3])\n",
    "    num_rx = int(params[3][4])\n",
    "    frames_per_second = int(params[5][3:])\n",
    "\n",
    "    data_handle = DataHandling(num_samples=num_samples, num_chirps=num_chirps, num_tx=num_tx, num_rx=num_rx, fps=frames_per_second)\n",
    "    data_handle.micro_doppler_stft(data_directory, max_velocity)\n",
    "\n",
    "    # plot \n",
    "    # plt.ion()\n",
    "    #plt.imshow(micro_doppler_spectrogram, aspect=2, extent=[0, micro_doppler_spectrogram.shape[1]/fps, -max_velocity, max_velocity], cmap='plasma')\n",
    "    #plt.ylabel('velocity [m/s]')\n",
    "    #plt.xlabel('time [s]')\n",
    "    #plt.colorbar(label='log scale')\n",
    "    #plt.show()\n",
    "    return \n",
    ""
   ]
  },
  {
   "cell_type": "code",
   "execution_count": 8,
   "metadata": {},
   "outputs": [
    {
     "output_type": "stream",
     "name": "stdout",
     "text": "dca_apr19_2045_trx14_n122xp128_fps20_stand_and_drill\nfile index: 0 | datacube shape(122, 128, 4, 260)\nmicro-doppler dimensions: (128, 260)\nfile index: 1 | datacube shape(122, 128, 4, 260)\nmicro-doppler dimensions: (128, 520)\nfile index: 2 | datacube shape(122, 128, 4, 260)\nmicro-doppler dimensions: (128, 780)\nfile index: 3 | datacube shape(122, 128, 4, 40)\nmicro-doppler dimensions: (128, 820)\nmicro-doppler image written successfully ...\n\ndca_apr19_2048_trx14_n122xp128_fps20_stand_and_drill_with_foil_on_hands\nfile index: 0 | datacube shape(122, 128, 4, 260)\nmicro-doppler dimensions: (128, 260)\nfile index: 1 | datacube shape(122, 128, 4, 260)\nmicro-doppler dimensions: (128, 520)\nfile index: 2 | datacube shape(122, 128, 4, 0)\nmicro-doppler dimensions: (128, 520)\nmicro-doppler image written successfully ...\n\ndca_apr19_2051_trx14_n122xp128_fps20_walk_no_gesture\nfile index: 0 | datacube shape(122, 128, 4, 260)\nmicro-doppler dimensions: (128, 260)\nfile index: 1 | datacube shape(122, 128, 4, 207)\nmicro-doppler dimensions: (128, 467)\nmicro-doppler image written successfully ...\n\ndca_apr19_2055_trx14_n122xp128_fps20_walk_back_forth_with_gestures\nfile index: 0 | datacube shape(122, 128, 4, 260)\nmicro-doppler dimensions: (128, 260)\nfile index: 1 | datacube shape(122, 128, 4, 260)\nmicro-doppler dimensions: (128, 520)\nfile index: 2 | datacube shape(122, 128, 4, 98)\nmicro-doppler dimensions: (128, 618)\nmicro-doppler image written successfully ...\n\ndca_apr19_2056_trx14_n122xp128_fps20_walk_back_forth_gestures_foils\nfile index: 0 | datacube shape(122, 128, 4, 260)\nmicro-doppler dimensions: (128, 260)\nfile index: 1 | datacube shape(122, 128, 4, 260)\nmicro-doppler dimensions: (128, 520)\nfile index: 2 | datacube shape(122, 128, 4, 257)\nmicro-doppler dimensions: (128, 777)\nmicro-doppler image written successfully ...\n\ndca_apr19_2100_trx14_n122xp128_fps20_boxing\nfile index: 0 | datacube shape(122, 128, 4, 260)\nmicro-doppler dimensions: (128, 260)\nfile index: 1 | datacube shape(122, 128, 4, 260)\nmicro-doppler dimensions: (128, 520)\nfile index: 2 | datacube shape(122, 128, 4, 0)\nmicro-doppler dimensions: (128, 520)\nmicro-doppler image written successfully ...\n\ndca_apr19_2103_trx14_n122xp128_fps20_boxing_foils\nfile index: 0 | datacube shape(122, 128, 4, 260)\nmicro-doppler dimensions: (128, 260)\nfile index: 1 | datacube shape(122, 128, 4, 260)\nmicro-doppler dimensions: (128, 520)\nfile index: 2 | datacube shape(122, 128, 4, 61)\nmicro-doppler dimensions: (128, 581)\nmicro-doppler image written successfully ...\n\n"
    }
   ],
   "source": [
    "data_directory =    filedialog.askdirectory(initialdir='/mnt/c/work/rcube_extract/dca_capture/captured_data')\n",
    "\n",
    "dir = []\n",
    "for subdir in os.walk(data_directory):\n",
    "    dir.append(subdir[0])\n",
    "for i in range(1, len(dir)):\n",
    "    perform_microdoppler_processing(dir[i])"
   ]
  },
  {
   "cell_type": "code",
   "execution_count": null,
   "metadata": {},
   "outputs": [],
   "source": []
  }
 ],
 "metadata": {
  "language_info": {
   "name": "python",
   "codemirror_mode": {
    "name": "ipython",
    "version": 3
   },
   "version": "3.6.9-final"
  },
  "orig_nbformat": 2,
  "file_extension": ".py",
  "mimetype": "text/x-python",
  "name": "python",
  "npconvert_exporter": "python",
  "pygments_lexer": "ipython3",
  "version": 3,
  "kernelspec": {
   "name": "python36964bitmmwvenvffc683e221b6451d9592ee2e5de91c72",
   "display_name": "Python 3.6.9 64-bit ('mmw': venv)"
  }
 },
 "nbformat": 4,
 "nbformat_minor": 2
}