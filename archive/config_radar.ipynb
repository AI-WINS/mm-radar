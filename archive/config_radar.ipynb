{
 "nbformat": 4,
 "nbformat_minor": 2,
 "metadata": {
  "language_info": {
   "name": "python",
   "codemirror_mode": {
    "name": "ipython",
    "version": 3
   },
   "version": "3.6.9-final"
  },
  "orig_nbformat": 2,
  "file_extension": ".py",
  "mimetype": "text/x-python",
  "name": "python",
  "npconvert_exporter": "python",
  "pygments_lexer": "ipython3",
  "version": 3,
  "kernelspec": {
   "name": "python36964bitmmwvenvffc683e221b6451d9592ee2e5de91c72",
   "display_name": "Python 3.6.9 64-bit ('mmw': venv)"
  }
 },
 "cells": [
  {
   "cell_type": "code",
   "execution_count": null,
   "metadata": {},
   "outputs": [],
   "source": [
    "'''\n",
    "Jupyter notebook script for configuring radar.\n",
    "\n",
    "'''"
   ]
  },
  {
   "cell_type": "code",
   "execution_count": 1,
   "metadata": {},
   "outputs": [],
   "source": [
    "from dca_capture_config import awr1843_config\n",
    "from mmwave.dataloader.radars import TI\n",
    ""
   ]
  },
  {
   "cell_type": "code",
   "execution_count": 2,
   "metadata": {},
   "outputs": [],
   "source": [
    "# read the default configuration file \n",
    "# take the radar specification inputs and modify the config values accordingly\n",
    "\n",
    "config_file = '/home/arvind/code/mm-radar/profiles/profile_default.cfg'\n",
    "\n",
    "config = [line.rstrip('\\r\\n') for line in open(config_file)]  # use '\\r\\n' in windows \n",
    ""
   ]
  },
  {
   "cell_type": "code",
   "execution_count": 3,
   "metadata": {},
   "outputs": [],
   "source": [
    "# write the configuration files to the radar using serial \n",
    "# ignore all commented lines \n",
    "\n",
    "# Note: keep chirp time 20% higher than sample duration\n",
    "# input specifications\n",
    "\n",
    "range_resolution = 0.025 \n",
    "max_range = 5\n",
    "max_velocity = 2\n",
    "num_chirps = 64\n",
    "frames_per_second = 10\n",
    "# num_frames = 0 # infinite\n",
    "\n",
    "# defaults\n",
    "# freq_slope_const = 20\n",
    "start_freq = 77\n",
    "dig_out_sample_rate = 3200  \n",
    "\n",
    "# intermediate parameters\n",
    "wavelength = 3e8 / start_freq / 1e9\n",
    "\n",
    "# radar config parameters \n",
    "num_samples = round(max_range / range_resolution / 0.9)\n",
    "freq_slope_const = 0.9 * 3e8 * dig_out_sample_rate / 2 / max_range / 1e9\n",
    "ramp_end_time = round(1.2 * num_samples * dig_out_sample_rate / freq_slope_const / 1e6) # keeping bandwith 20% higher than sampling duration\n",
    "idle_time = round(wavelength * 1e6 / 4 / max_velocity - ramp_end_time)\n",
    "frame_periodicity = 1e3 / frames_per_second # frame duration in ms\n",
    "\n",
    "for index in range(len(config)):\n",
    "    # Split the line\n",
    "    split_words = config[index].split(\" \")\n",
    "    # Get the information about the profile configuration\n",
    "    if \"profileCfg\" in split_words[0]:\n",
    "        # split_words[2] = str(start_freq)\n",
    "        split_words[3] = str(idle_time)\n",
    "        split_words[5] = str(ramp_end_time)\n",
    "        split_words[8] = str(freq_slope_const)\n",
    "        split_words[10] = str(num_samples)\n",
    "        split_words[11] = str(dig_out_sample_rate)\n",
    "        config[index] = \" \".join(split_words)\n",
    "        \n",
    "    # Get the information about the frame configuration    \n",
    "    if \"frameCfg\" in split_words[0]:\n",
    "\n",
    "        # split_words[1] = str(chirp_start_idx)\n",
    "        # split_words[2] = str(chirp_end_idx)\n",
    "        split_words[3] = str(num_chirps)\n",
    "        # split_words[4] = str(num_frames)\n",
    "        split_words[5] = str(frame_periodicity)\n",
    "        config[index] = \" \".join(split_words)"
   ]
  },
  {
   "cell_type": "code",
   "execution_count": 6,
   "metadata": {},
   "outputs": [
    {
     "output_type": "stream",
     "name": "stdout",
     "text": "numDopplerBins= 64.0\nnumRangeBins= 256\nrangeResolutionMeters= 0.025\nrangeIdxToMeters= 0.0217\ndopplerResolutionMps= 0.0625\nmaxRange= 5.0\nmaxVelocity= 2.0001\nsensorStop\nflushCfg\ndfeDataOutputMode 1\nchannelCfg 15 1 0\nadcCfg 2 1\nadcbufCfg -1 0 1 1 1\nprofileCfg 0 77 487 6 0 0 0 86.4 1 222 3200 0 0 30\nchirpCfg 0 0 0 0 0 0 0 1\nchirpCfg 1 1 0 0 0 0 0 0\nframeCfg 0 0 64 0 100.0 1 0\nlowPower 0 0\nguiMonitor -1 1 1 0 0 0 1\ncfarCfg -1 0 2 8 4 3 0 15 1\ncfarCfg -1 1 0 4 2 3 1 15 1\nmultiObjBeamForming -1 1 0.5\nclutterRemoval -1 0\ncalibDcRangeSig -1 0 -5 8 256\nextendedMaxVelocity -1 0\nlvdsStreamCfg -1 1 1 1\ncompRangeBiasAndRxChanPhase 0.0 1 0 1 0 1 0 1 0 1 0 1 0 1 0 1 0 1 0 1 0 1 0 1 0\nmeasureRangeBiasAndRxChanPhase 0 1.5 0.2\nCQRxSatMonitor 0 3 5 121 0\nCQSigImgMonitor 0 127 4\nanalogMonitor 0 0\naoaFovCfg -1 -90 90 -90 90\ncfarFovCfg -1 0 0 8.92\ncfarFovCfg -1 1 -1 1.00\nsensorStart\n"
    }
   ],
   "source": [
    "awr1843 = TI(cli_loc='/dev/ttyS4', data_loc='/dev/ttyS3', num_rx=4, num_tx=1)\n",
    "\n",
    "config_params = awr1843._initialize(config)\n",
    "for key, value in config_params.items():\n",
    "    print(key + '= ' + str(round(value,4)))\n",
    "\n",
    "awr1843._configure_radar(config)"
   ]
  },
  {
   "cell_type": "code",
   "execution_count": null,
   "metadata": {},
   "outputs": [],
   "source": []
  }
 ]
}